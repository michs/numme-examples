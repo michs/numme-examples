{
 "cells": [
  {
   "cell_type": "markdown",
   "metadata": {},
   "source": [
    "# 2.1 Zeros of a function\n",
    "Calculate the zeros of function $f(x) = \\frac{x^3+3x^2-3}{x^2-x-1}$ with a precision of three decimals."
   ]
  },
  {
   "cell_type": "code",
   "execution_count": 5,
   "metadata": {
    "collapsed": false
   },
   "outputs": [],
   "source": [
    "from math import *\n",
    "%matplotlib inline\n",
    "from numpy import *\n",
    "import matplotlib.pylab as pyl"
   ]
  },
  {
   "cell_type": "code",
   "execution_count": 6,
   "metadata": {
    "collapsed": true
   },
   "outputs": [],
   "source": [
    "# Given quantities\n",
    "E_f = 0.5E-3\n",
    "def f(x):\n",
    "    return (x**3+3*x**2-3)/(x**2-x-1)"
   ]
  },
  {
   "cell_type": "markdown",
   "metadata": {},
   "source": [
    "We will use Newton's method. A first plot of the function gives us initial guesses of the zeros."
   ]
  },
  {
   "cell_type": "code",
   "execution_count": 7,
   "metadata": {
    "collapsed": false
   },
   "outputs": [
    {
     "data": {
      "image/png": "[encoded data removed]",
      "text/plain": [
       "<matplotlib.figure.Figure at 0x2ba6de43b510>"
      ]
     },
     "metadata": {},
     "output_type": "display_data"
    }
   ],
   "source": [
    "x = linspace(-5,5,101)\n",
    "y = f(x)\n",
    "pyl.figure()\n",
    "pyl.plot(x,y)\n",
    "pyl.ylim(-3,3)\n",
    "pyl.grid()"
   ]
  },
  {
   "cell_type": "code",
   "execution_count": 8,
   "metadata": {
    "collapsed": false
   },
   "outputs": [],
   "source": [
    "# Initial guesses for zeros\n",
    "x0_v = [-3.0,-1.5,1.0]"
   ]
  },
  {
   "cell_type": "code",
   "execution_count": 9,
   "metadata": {
    "collapsed": true
   },
   "outputs": [],
   "source": [
    "def fprime(x):\n",
    "    return (-3-6*x**2-2*x**3+x**4)/(-1-x+x**2)**2"
   ]
  },
  {
   "cell_type": "code",
   "execution_count": 10,
   "metadata": {
    "collapsed": false
   },
   "outputs": [],
   "source": [
    "# Newton's method.\n",
    "#\n",
    "# @return (x0, h, i) - zero,\n",
    "#                      last improvement of the zero (error),\n",
    "#                      number of iterations\n",
    "#\n",
    "def newtons_method(x0, f, fprime, err, max_iter = 100):\n",
    "    h = f(x0)/fprime(x0)\n",
    "    x0 -= h\n",
    "    i = 1\n",
    "    while abs(h) > err and i < max_iter:\n",
    "        h   = f(x0)/fprime(x0)\n",
    "        x0 -= h\n",
    "        i  += 1\n",
    "    return (x0, h, i)"
   ]
  },
  {
   "cell_type": "code",
   "execution_count": 14,
   "metadata": {
    "collapsed": false
   },
   "outputs": [
    {
     "name": "stdout",
     "output_type": "stream",
     "text": [
      "Looking for zero with guess x_0 = -3.00\n",
      "----------------------------------------------------------------------\n",
      "          x_0 |           e_i |   e_i/e_{i-1}\n",
      "----------------------------------------------------------------------\n",
      "-2.576923e+00 | -4.483419e-02 |  0.000000e+00\n",
      "-2.532789e+00 | -4.413430e-02 |  1.561057e-02\n",
      "-2.532089e+00 | -6.997045e-04 |  2.612860e-04\n",
      "-2.532089e+00 | -1.828708e-07 | -0.000000e+00\n",
      "----------------------------------------------------------------------\n",
      "Zero found at x = -2.532\n",
      "\n",
      "Looking for zero with guess x_0 = -1.50\n",
      "----------------------------------------------------------------------\n",
      "          x_0 |           e_i |   e_i/e_{i-1}\n",
      "----------------------------------------------------------------------\n",
      "-1.280000e+00 |  6.729636e-02 |  0.000000e+00\n",
      "-1.338648e+00 |  5.864783e-02 |  1.285140e-01\n",
      "-1.347141e+00 |  8.493317e-03 |  1.794626e-02\n",
      "-1.347296e+00 |  1.551580e-04 |  3.263870e-04\n",
      "----------------------------------------------------------------------\n",
      "Zero found at x = -1.347\n",
      "\n",
      "Looking for zero with guess x_0 = 1.00\n",
      "----------------------------------------------------------------------\n",
      "          x_0 |           e_i |   e_i/e_{i-1}\n",
      "----------------------------------------------------------------------\n",
      " 9.000000e-01 |  2.061476e-02 |  0.000000e+00\n",
      " 8.799917e-01 |  2.000831e-02 |  2.941806e-02\n",
      " 8.793858e-01 |  6.059209e-04 |  8.661290e-04\n",
      " 8.793852e-01 |  5.252606e-07 |  0.000000e+00\n",
      "----------------------------------------------------------------------\n",
      "Zero found at x = 0.879\n",
      "\n"
     ]
    }
   ],
   "source": [
    "FMT_ITER='%13.6e | %13.6e | %13.6e'\n",
    "FMT_HEAD='%13s | %13s | %13s'\n",
    "FMT_LINE='-'*70\n",
    "\n",
    "for x_0 in x0_v:\n",
    "    print \"Looking for zero with guess x_0 = %.2f\" % x_0\n",
    "    print FMT_LINE\n",
    "    print FMT_HEAD % (\"x_0\", \"e_i\", \"e_i/e_{i-1}\")\n",
    "    print FMT_LINE\n",
    "\n",
    "    (r, h, i) = newtons_method(x_0, f, fprime, E_f/10.)\n",
    "    (x_0, h, i) = newtons_method(x_0, f, fprime, E_f, 1)\n",
    "    print FMT_ITER % (x_0, x_0-r, 0)\n",
    "    while abs(h) > E_f:\n",
    "        e_old = x_0 - r\n",
    "        (x_0, h, i) = newtons_method(x_0, f, fprime, E_f, 1)\n",
    "        print FMT_ITER % (x_0, h, (x_0-r)/e_old)\n",
    "\n",
    "    print FMT_LINE\n",
    "    if abs(h) <= E_f:\n",
    "        print \"Zero found at x = %.3f\" % x_0\n",
    "    print"
   ]
  }
 ],
 "metadata": {
  "kernelspec": {
   "display_name": "Python 2",
   "language": "python",
   "name": "python2"
  },
  "language_info": {
   "codemirror_mode": {
    "name": "ipython",
    "version": 2
   },
   "file_extension": ".py",
   "mimetype": "text/x-python",
   "name": "python",
   "nbconvert_exporter": "python",
   "pygments_lexer": "ipython2",
   "version": "2.7.10"
  }
 },
 "nbformat": 4,
 "nbformat_minor": 0
}
