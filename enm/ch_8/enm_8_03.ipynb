{
 "cells": [
  {
   "cell_type": "markdown",
   "metadata": {},
   "source": [
    "# 8.3 Error analysis of the volume of a frustum\n",
    "\n",
    "The volume of a frustum with bottom and top areas $B_1$ and $B_2$ can be calculated with the formula $$V=\\frac{h}{3}(B_1+\\sqrt{B_1 B_2}+B_2).$$\n",
    "\n",
    "Carry out an error analysis for the given quantities and give the volume with error limits."
   ]
  },
  {
   "cell_type": "code",
   "execution_count": 1,
   "metadata": {
    "collapsed": true
   },
   "outputs": [],
   "source": [
    "from math import *"
   ]
  },
  {
   "cell_type": "code",
   "execution_count": 2,
   "metadata": {
    "collapsed": true
   },
   "outputs": [],
   "source": [
    "# Given quantities\n",
    "h   = 6.; E_h  = 0.3 # height\n",
    "B_1 = 8.; E_b1 = 0.2 # bottom area\n",
    "B_2 = 3.; E_b2 = 0.1 # top areas"
   ]
  },
  {
   "cell_type": "code",
   "execution_count": 3,
   "metadata": {
    "collapsed": true
   },
   "outputs": [],
   "source": [
    "def V_frust(h, B_1, B_2):\n",
    "    return h/3.*(B_1 + sqrt(B_1*B_2) + B_2)"
   ]
  },
  {
   "cell_type": "code",
   "execution_count": 4,
   "metadata": {
    "collapsed": false
   },
   "outputs": [],
   "source": [
    "V = V_frust(h, B_1, B_2)"
   ]
  },
  {
   "cell_type": "markdown",
   "metadata": {},
   "source": [
    "### Error analysis via error propagation law"
   ]
  },
  {
   "cell_type": "markdown",
   "metadata": {},
   "source": [
    "$$\\begin{align*}\n",
    "E_v & = \\left | \\frac{\\partial V}{\\partial h}\\right |E_h + \\left | \\frac{\\partial V}{\\partial B_1}\\right |E_{B1} + \\left | \\frac{\\partial V}{\\partial B_2}\\right |E_{B2} \\\\\n",
    " & = \\frac{h}{3} \\left ( \\frac{E_h}{h} (B_1+\\sqrt{B_1 B_2}+B_2) + E_{B1} (1+\\sqrt{\\frac{B_2}{B_1}})  + E_{B2} (1+\\sqrt{\\frac{B_1}{B_2}}) \\right ). \n",
    "\\end{align*}$$"
   ]
  },
  {
   "cell_type": "code",
   "execution_count": 5,
   "metadata": {
    "collapsed": false
   },
   "outputs": [],
   "source": [
    "E_v = h/3.*(E_h/h*(B_1+sqrt(B_1*B_2)+B_2) \\\n",
    "            + E_b1*(1.+sqrt(B_2/B_1)) \\\n",
    "            + E_b2*(1.+sqrt(B_1/B_2)))"
   ]
  },
  {
   "cell_type": "code",
   "execution_count": 6,
   "metadata": {
    "collapsed": false
   },
   "outputs": [
    {
     "name": "stdout",
     "output_type": "stream",
     "text": [
      "V = 31.80    E_v = 2.76\n"
     ]
    }
   ],
   "source": [
    "print \"V = %.2f    E_v = %.2f\" % (V, E_v)"
   ]
  },
  {
   "cell_type": "markdown",
   "metadata": {},
   "source": [
    "The volume of the frustum is $V = 32 \\pm 3$."
   ]
  },
  {
   "cell_type": "markdown",
   "metadata": {},
   "source": [
    "### Experimental error analysis as alternative solution."
   ]
  },
  {
   "cell_type": "code",
   "execution_count": 7,
   "metadata": {
    "collapsed": false
   },
   "outputs": [
    {
     "name": "stdout",
     "output_type": "stream",
     "text": [
      "Experimental error analysis: biggest volume e_v = 2.52\n",
      "Experimental error analysis: smallest volume e_v = -2.43\n"
     ]
    }
   ],
   "source": [
    "err_max = V_frust(h+E_h, B_1+E_b1, B_2+E_b2)-V\n",
    "print \"Experimental error analysis: biggest volume e_v = %.2f\" % err_max\n",
    "err_max = V_frust(h-E_h, B_1-E_b1, B_2-E_b2)-V\n",
    "print \"Experimental error analysis: smallest volume e_v = %.2f\" % err_max"
   ]
  },
  {
   "cell_type": "markdown",
   "metadata": {},
   "source": [
    "The volume of the frustum is $V = 32 \\pm 3$."
   ]
  }
 ],
 "metadata": {
  "kernelspec": {
   "display_name": "Python 2",
   "language": "python",
   "name": "python2"
  },
  "language_info": {
   "codemirror_mode": {
    "name": "ipython",
    "version": 2
   },
   "file_extension": ".py",
   "mimetype": "text/x-python",
   "name": "python",
   "nbconvert_exporter": "python",
   "pygments_lexer": "ipython2",
   "version": "2.7.10"
  }
 },
 "nbformat": 4,
 "nbformat_minor": 0
}
