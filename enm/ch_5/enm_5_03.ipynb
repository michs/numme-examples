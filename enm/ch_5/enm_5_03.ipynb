{
 "cells": [
  {
   "cell_type": "markdown",
   "metadata": {},
   "source": [
    "# 5.3 Interpolation with polynoms\n",
    "Find the polynom $P(x)$ that goes through the four points $(1,3),(3,3),(4,0),(5,11)$, and calcaulate the value of $P(7)$.\n",
    "\n",
    "Find the polynom $Q(x)$ that goes additionally through point $(7,6)$. How much changes the coefficient of the highest degree term in $Q(x)$ if the y-value at $x=7$ is changed by one unit?\n",
    "\n",
    "Write a program that sketches the polynom $Q(x)$. It is easier to use Lagrange interpolation in this case."
   ]
  },
  {
   "cell_type": "code",
   "execution_count": 1,
   "metadata": {
    "collapsed": true
   },
   "outputs": [],
   "source": [
    "%run ../../tools/projini.py\n",
    "\n",
    "from math import *\n",
    "%matplotlib inline\n",
    "from numpy import *\n",
    "import matplotlib.pylab as pyl"
   ]
  },
  {
   "cell_type": "code",
   "execution_count": 2,
   "metadata": {
    "collapsed": true
   },
   "outputs": [],
   "source": [
    "# Given quantities\n",
    "x = array([float('nan'), 1., 3., 4., 5., 7.])   #point coordinates, one dummy element\n",
    "y = array([float('nan'), 3., 3., 0., 11., 6.])  # in order to get one-based index\n",
    "\n",
    "NP = 4  # number of points for P(x)\n",
    "NQ = 5  # number of points for Q(x)\n",
    "\n",
    "x_test = 7.   # P(x_test) searched"
   ]
  },
  {
   "cell_type": "markdown",
   "metadata": {},
   "source": [
    "## Calculation of P(x)\n",
    "    x_1 | f[1]\n",
    "                 f[1 2]\n",
    "    x_2 | f[2]            f[1 2 3]\n",
    "                 f[2 3]              f[1 2 3 4]\n",
    "    x_3 | f[3]            f[2 3 4]\n",
    "                 f[3 4]\n",
    "    x_4 | f[4]\n",
    "* * *\n",
    "    f[1] = y_1\n",
    "    f[2] = y_2\n",
    "    f[3] = y_3\n",
    "    f[4] = y_4\n",
    "\n",
    "    f[1 2] = (f[2] - f[1])/(x_2 - x_1)\n",
    "    f[2 3] = (f[3] - f[2])/(x_3 - x_2)\n",
    "    f[3 4] = (f[4] - f[3])/(x_4 - x_3)\n",
    "\n",
    "    f[1 2 3] = (f[2 3] - f[1 2])/(x_3 - x_1)\n",
    "    f[2 3 4] = (f[2 3] - f[3 4])/(x_4 - x_2)\n",
    "\n",
    "    f[1 2 3 4] = (f[2 3 4]-f[1 2 3])/(x_4-x_1)\n",
    "* * *\n",
    "The polynom is defined as\n",
    "$$\\begin{align*}\n",
    "P(x) & =\\sum_{i=1}^n f[x_1 \\ldots x_i](x-x_1) \\ldots (x-x_{i-1}) \\\\\n",
    "     & = f[1] + f[1\\,2](x-x_1) + f[1\\,2\\,3](x-x_1)(x-x_2) + f[1\\,2\\,3\\,4](x-x_1)(x-x_2)(x-x_3)\n",
    "\\end{align*}$$"
   ]
  },
  {
   "cell_type": "code",
   "execution_count": 3,
   "metadata": {
    "collapsed": true
   },
   "outputs": [],
   "source": [
    "f_1=y[1]; f_2=y[2]; f_3=y[3]; f_4=y[4]\n",
    "\n",
    "f_1_2 = (f_2 - f_1)/(x[2] - x[1])\n",
    "f_2_3 = (f_3 - f_2)/(x[3] - x[2])\n",
    "f_3_4 = (f_4 - f_3)/(x[4] - x[3])\n",
    "\n",
    "f_1_2_3 = (f_2_3 - f_1_2)/(x[3] - x[1])\n",
    "f_2_3_4 = (f_3_4 - f_2_3)/(x[4] - x[2])\n",
    "\n",
    "f_1_2_3_4 = (f_2_3_4 - f_1_2_3)/(x[4] - x[1])"
   ]
  },
  {
   "cell_type": "code",
   "execution_count": 4,
   "metadata": {
    "collapsed": false
   },
   "outputs": [
    {
     "name": "stdout",
     "output_type": "stream",
     "text": [
      "P(x) = (3.00) + (0.00)(x−1) + (-1.00)(x−1)(x−3) + (2.00)(x−1)(x−3)(x−4)\n"
     ]
    }
   ],
   "source": [
    "# Equation of the polynom P(x)\n",
    "P_x = lambda xi: f_1 \\\n",
    "                 + f_1_2    *(xi - x[1]) \\\n",
    "                 + f_1_2_3  *(xi - x[1])*(xi - x[2]) \\\n",
    "                 + f_1_2_3_4*(xi - x[1])*(xi - x[2])*(xi - x[3])\n",
    "\n",
    "print (\"P(x) = (%.2f) + (%.2f)(x−%.0f) + (%.2f)(x−%.0f)(x−%.0f) \"\n",
    "       + \"+ (%.2f)(x−%.0f)(x−%.0f)(x−%.0f)\") % \\\n",
    "               (f_1,f_1_2,x[1],f_1_2_3,x[1],x[2],f_1_2_3_4,x[1],x[2],x[3])"
   ]
  },
  {
   "cell_type": "code",
   "execution_count": 5,
   "metadata": {
    "collapsed": false
   },
   "outputs": [
    {
     "name": "stdout",
     "output_type": "stream",
     "text": [
      "Interpolated value at x = 7: P(7) = 123.000000\n"
     ]
    }
   ],
   "source": [
    "# Interpolated point at x = 7\n",
    "print \"Interpolated value at x = %.0f: P(%.0f) = %f\" % (x_test, x_test, P_x(x_test))"
   ]
  },
  {
   "cell_type": "code",
   "execution_count": 6,
   "metadata": {
    "collapsed": false
   },
   "outputs": [
    {
     "data": {
      "image/png": "[encoded data removed]",
      "text/plain": [
       "<matplotlib.figure.Figure at 0x2ba9e076ec10>"
      ]
     },
     "metadata": {},
     "output_type": "display_data"
    }
   ],
   "source": [
    "x_pl = linspace(0,8,101)\n",
    "y_pl = P_x(x_pl)\n",
    "pyl.figure()\n",
    "pyl.plot(x_pl,y_pl,x[1:6],y[1:6],'r*')\n",
    "pyl.ylim(-50,150)\n",
    "pyl.grid()"
   ]
  },
  {
   "cell_type": "markdown",
   "metadata": {},
   "source": [
    "## Calculation of Q(x)\n",
    "We use also the point $P_5 = (x_5, y_5)$. \n",
    "    x_1 | f[1]\n",
    "                 f[1 2]\n",
    "    x_2 | f[2]            f[1 2 3]\n",
    "                 f[2 3]              f[1 2 3 4]\n",
    "    x_3 | f[3]            f[2 3 4]                f[1 2 3 4 5]\n",
    "                 f[3 4]              f[2 3 4 5]\n",
    "    x_4 | f[4]            f[3 4 5]\n",
    "                 f[4 5]\n",
    "    x_5 | f[5]\n",
    "* * *\n",
    "    f[5] = y_5\n",
    "\n",
    "    f[4 5] = (f[5] - f[4])/(x_5 - x_4)\n",
    "\n",
    "    f[3 4 5] = (f[4 5] - f[3 4])/(x_5 - x_3)\n",
    "\n",
    "    f[2 3 4 5] = (f[3 4 5] - f[2 3 4])/(x_5 - x_2)\n",
    "    \n",
    "    f[1 2 3 4 5] = (f[2 3 4 5] - f[1 2 3 4])/(x_5 - x_1)    \n",
    "* * *\n",
    "The polynom is defined as\n",
    "$$\\begin{align*}\n",
    "P(x) & =\\sum_{i=1}^n f[x_1 \\ldots x_i](x-x_1) \\ldots (x-x_{i-1}) \\\\\n",
    "     & = f[1] + f[1\\,2](x-x_1) + f[1\\,2\\,3](x-x_1)(x-x_2) + f[1\\,2\\,3\\,4](x-x_1)(x-x_2)(x-x_3) + f[1\\,2\\,3\\,4\\,5](x-x_1)(x-x_2)(x-x_3)(x-x_4)\n",
    "\\end{align*}$$"
   ]
  },
  {
   "cell_type": "code",
   "execution_count": 7,
   "metadata": {
    "collapsed": false
   },
   "outputs": [],
   "source": [
    "f_5 = y[5]\n",
    "\n",
    "f_4_5 = (f_5 - f_4)/(x[5] - x[4])\n",
    "\n",
    "f_3_4_5 = (f_4_5 - f_3_4)/(x[5] - x[3])\n",
    "\n",
    "f_2_3_4_5 = (f_3_4_5 - f_2_3_4)/(x[5] - x[2])\n",
    "\n",
    "f_1_2_3_4_5 = (f_2_3_4_5 - f_1_2_3_4)/(x[5] - x[1])"
   ]
  },
  {
   "cell_type": "code",
   "execution_count": 8,
   "metadata": {
    "collapsed": false
   },
   "outputs": [
    {
     "name": "stdout",
     "output_type": "stream",
     "text": [
      "Q(x) = (3.00) + (0.00)(x−1) + (-1.00)(x−1)(x−3) + (2.00)(x−1)(x−3)(x−4) + (-0.81)(x−1)(x−3)(x−4)(x-5)\n"
     ]
    }
   ],
   "source": [
    "# Equation of the polynom Q(x)\n",
    "Q_x = lambda xi: f_1 \\\n",
    "                 + f_1_2      *(xi - x[1]) \\\n",
    "                 + f_1_2_3    *(xi - x[1])*(xi - x[2]) \\\n",
    "                 + f_1_2_3_4  *(xi - x[1])*(xi - x[2])*(xi - x[3]) \\\n",
    "                 + f_1_2_3_4_5*(xi - x[1])*(xi - x[2])*(xi - x[3])*(xi - x[4]) \\\n",
    "\n",
    "print (\"Q(x) = (%.2f) + (%.2f)(x−%.0f) \"       \\\n",
    "       + \"+ (%.2f)(x−%.0f)(x−%.0f) \"           \\\n",
    "       + \"+ (%.2f)(x−%.0f)(x−%.0f)(x−%.0f) \"   \\\n",
    "       + \"+ (%.2f)(x−%.0f)(x−%.0f)(x−%.0f)(x-%.0f)\") % \\\n",
    "               (f_1,f_1_2,  x[1],\n",
    "                f_1_2_3,    x[1],x[2],\n",
    "                f_1_2_3_4,  x[1],x[2],x[3],\n",
    "                f_1_2_3_4_5,x[1],x[2],x[3],x[4])"
   ]
  },
  {
   "cell_type": "markdown",
   "metadata": {},
   "source": [
    "## Change in the coefficient for highest degree"
   ]
  },
  {
   "cell_type": "code",
   "execution_count": 9,
   "metadata": {
    "collapsed": false
   },
   "outputs": [
    {
     "name": "stdout",
     "output_type": "stream",
     "text": [
      "The limit of the relative error of the highest degree coefficient for change in y by one unit is 0.008547\n"
     ]
    }
   ],
   "source": [
    "# Change of +/- 1 unit\n",
    "f_5           = y[5] + 1.\n",
    "f_4_5         = (f_5 - f_4)            /(x[5] - x[4])\n",
    "f_3_4_5       = (f_4_5 - f_3_4)        /(x[5] - x[3])\n",
    "f_2_3_4_5     = (f_3_4_5 - f_2_3_4)    /(x[5] - x[2])\n",
    "f_1_2_3_4_5_p = (f_2_3_4_5 - f_1_2_3_4)/(x[5] - x[1])\n",
    "\n",
    "f_5           = y[5] - 1.\n",
    "f_4_5         = (f_5 - f_4)            /(x[5] - x[4])\n",
    "f_3_4_5       = (f_4_5 - f_3_4)        /(x[5] - x[3])\n",
    "f_2_3_4_5     = (f_3_4_5 - f_2_3_4)    /(x[5] - x[2])\n",
    "f_1_2_3_4_5_m = (f_2_3_4_5 - f_1_2_3_4)/(x[5] - x[1])\n",
    "\n",
    "Err_p = abs((f_1_2_3_4_5_p - f_1_2_3_4_5)/f_1_2_3_4_5)\n",
    "Err_m = abs((f_1_2_3_4_5_m - f_1_2_3_4_5)/f_1_2_3_4_5)\n",
    "\n",
    "print \"The limit of the relative error of the highest degree coefficient for change \" \\\n",
    "      + \"in y by one unit is %f\" % (max(Err_p,Err_m))"
   ]
  },
  {
   "cell_type": "markdown",
   "metadata": {},
   "source": [
    "## Plot the polynom Q(x)"
   ]
  },
  {
   "cell_type": "code",
   "execution_count": 10,
   "metadata": {
    "collapsed": false
   },
   "outputs": [
    {
     "data": {
      "image/png": "[encoded data removed]",
      "text/plain": [
       "<matplotlib.figure.Figure at 0x2ba9e0a2d490>"
      ]
     },
     "metadata": {},
     "output_type": "display_data"
    }
   ],
   "source": [
    "x_pl = linspace(0,8,101)\n",
    "y_pl = Q_x(x_pl)\n",
    "pyl.figure()\n",
    "pyl.plot(x_pl,y_pl,x[1:6],y[1:6],'r*')\n",
    "pyl.ylim(-50,50)\n",
    "pyl.grid()"
   ]
  }
 ],
 "metadata": {
  "kernelspec": {
   "display_name": "Python 2",
   "language": "python",
   "name": "python2"
  },
  "language_info": {
   "codemirror_mode": {
    "name": "ipython",
    "version": 2
   },
   "file_extension": ".py",
   "mimetype": "text/x-python",
   "name": "python",
   "nbconvert_exporter": "python",
   "pygments_lexer": "ipython2",
   "version": "2.7.10"
  }
 },
 "nbformat": 4,
 "nbformat_minor": 0
}
