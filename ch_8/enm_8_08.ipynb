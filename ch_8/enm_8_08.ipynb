{
 "cells": [
  {
   "cell_type": "markdown",
   "metadata": {},
   "source": [
    "# Example 8.8\n",
    "An UFO is observed at two different positions. The first measurement gives a distance of $(2000 \\pm 100)\\;m$, while the second measurement, which was done $10\\;s$ later, resulted in a distance shorter by $(300 \\pm 20)\\;m$. The angle between both positions is $(20 \\pm 1)\\,°$. The observer calculated a speed of $254.581396\\;\\mathrm{km \\cdot s^{-1}}$.\n",
    "\n",
    "Carry out an error estimation assuming linear movement with constant speed and an error of $1/10\\:\\mathrm{s}$ in the time measurement. "
   ]
  },
  {
   "cell_type": "code",
   "execution_count": 1,
   "metadata": {
    "collapsed": true
   },
   "outputs": [],
   "source": [
    "from math import *"
   ]
  },
  {
   "cell_type": "code",
   "execution_count": 19,
   "metadata": {
    "collapsed": true
   },
   "outputs": [],
   "source": [
    "# Given quantities\n",
    "a = 2000.; E_a = 100.\n",
    "# b = a-300.; E_b = 20.\n",
    "alpha = 20.*pi/180.; E_alpha = 1.*pi/180.\n",
    "t = 10.; E_t = 0.1"
   ]
  },
  {
   "cell_type": "code",
   "execution_count": 20,
   "metadata": {
    "collapsed": true
   },
   "outputs": [],
   "source": [
    "# Calculation of the UFO's flight distance\n",
    "def flight_dist(a, b, alpha):\n",
    "    return sqrt(a**2 + b**2 -2.0*a*b*cos(alpha))"
   ]
  },
  {
   "cell_type": "code",
   "execution_count": 21,
   "metadata": {
    "collapsed": true
   },
   "outputs": [],
   "source": [
    "# Calculation of the UFO's flight speed\n",
    "def flight_speed(a, b, alpha, t):\n",
    "    return flight_dist(a, b, alpha)/t"
   ]
  },
  {
   "cell_type": "markdown",
   "metadata": {},
   "source": [
    "## Flight distance and speed from the measurements"
   ]
  },
  {
   "cell_type": "code",
   "execution_count": 22,
   "metadata": {
    "collapsed": false
   },
   "outputs": [
    {
     "name": "stdout",
     "output_type": "stream",
     "text": [
      "d = 688.631346 m   v = 254.581396 km/s\n"
     ]
    }
   ],
   "source": [
    "dist = flight_dist(a, b, alpha)\n",
    "speed = flight_speed(a, a-300, alpha, t)\n",
    "print \"d = %f m   v = %.6f km/s\" % (dist, speed*3.6)"
   ]
  },
  {
   "cell_type": "markdown",
   "metadata": {},
   "source": [
    "## Error estimation"
   ]
  },
  {
   "cell_type": "markdown",
   "metadata": {},
   "source": [
    "Four contributions to the error need to be considered: error in the first distance, error in the second distance, the error in the angle measurement and the error in the time measurement.\n",
    "\n",
    "One has to consider that the second distance measurement is dependent on the first distance measurement. The distance has to be calculated repeatedly in an experimental error estimation."
   ]
  },
  {
   "cell_type": "markdown",
   "metadata": {},
   "source": [
    "### Experimental error estimation"
   ]
  },
  {
   "cell_type": "code",
   "execution_count": 23,
   "metadata": {
    "collapsed": false
   },
   "outputs": [
    {
     "name": "stdout",
     "output_type": "stream",
     "text": [
      "Experimental error limit: 26.844191 km/s\n",
      "(100.0, -20.0, 0.017453292519943295, -0.1)\n"
     ]
    }
   ],
   "source": [
    "# Error or the first measurment\n",
    "e_a = (-E_a, E_a)\n",
    "# Error of the second measurement\n",
    "e_b = (-E_b, E_b)\n",
    "# Error of the angle measurement\n",
    "e_alpha = (-E_alpha, E_alpha)\n",
    "# Error of the time measurement\n",
    "e_t = (-E_t, E_t)\n",
    "\n",
    "max_err = 0.\n",
    "for d_a in e_a:\n",
    "    b = a + d_a - 300\n",
    "    for d_b in e_b:\n",
    "        for d_alpha in e_alpha:\n",
    "            for d_t in e_t:\n",
    "                d_v = flight_speed(a+d_a,b+d_b, alpha+d_alpha,t+d_t)-speed\n",
    "                if abs(d_v) > max_err:\n",
    "                    max_err = abs(d_v)\n",
    "                    errs = (d_a, d_b, d_alpha, d_t)\n",
    "print \"Experimental error limit: %f km/s\" % (max_err*3.6,)\n",
    "print errs"
   ]
  },
  {
   "cell_type": "markdown",
   "metadata": {},
   "source": [
    "The experimental error estimations provides an error limit of 27 km/s. The speed of the UFO can be given with $\\mathrm{v}=(255 \\pm 27)\\,\\mathrm{km \\cdot s^{-1}}$."
   ]
  }
 ],
 "metadata": {
  "kernelspec": {
   "display_name": "Python 2",
   "language": "python",
   "name": "python2"
  },
  "language_info": {
   "codemirror_mode": {
    "name": "ipython",
    "version": 2
   },
   "file_extension": ".py",
   "mimetype": "text/x-python",
   "name": "python",
   "nbconvert_exporter": "python",
   "pygments_lexer": "ipython2",
   "version": "2.7.10"
  }
 },
 "nbformat": 4,
 "nbformat_minor": 0
}
