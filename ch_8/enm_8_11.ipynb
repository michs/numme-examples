{
 "cells": [
  {
   "cell_type": "markdown",
   "metadata": {},
   "source": [
    "# Example 8.11\n",
    "A car is linear moving with constant acceleration $a\\,\\mathrm{m/s^2}$. Let $s_0$ denote the car's distance to a reference point 0 at the time $t=0$,and $v_0$ denotes its speed at this time. The function $s(t)$ gives the distance from reference point at time t. The function $s(t)$ can be given though $s(t) = s_0 + v_0 t + at^2/2$."
   ]
  },
  {
   "cell_type": "markdown",
   "metadata": {},
   "source": [
    "<b>a)</b> Calculate the unknown parameters for the following measurements."
   ]
  },
  {
   "cell_type": "code",
   "execution_count": 1,
   "metadata": {
    "collapsed": true
   },
   "outputs": [],
   "source": [
    "from math import *\n",
    "import numpy as np"
   ]
  },
  {
   "cell_type": "code",
   "execution_count": 2,
   "metadata": {
    "collapsed": true
   },
   "outputs": [],
   "source": [
    "t = (2.,5.,9.)\n",
    "s = (8.7, 40.9, 125.7)"
   ]
  },
  {
   "cell_type": "markdown",
   "metadata": {},
   "source": [
    "The unknown $s_0, v_0, a$ can be calculated from a linear system using the three measurements. We setup a coefficient matrix and solve the linear system."
   ]
  },
  {
   "cell_type": "code",
   "execution_count": 3,
   "metadata": {
    "collapsed": false
   },
   "outputs": [
    {
     "data": {
      "text/plain": [
       "'s_0=2.1857 m  v_0=0.2667 m/s  a=2.9905 m/s**2'"
      ]
     },
     "execution_count": 3,
     "metadata": {},
     "output_type": "execute_result"
    }
   ],
   "source": [
    "A = np.array([[1.,t[0],0.5*t[0]**2],\n",
    "              [1.,t[1],0.5*t[1]**2],\n",
    "              [1.,t[2],0.5*t[2]**2]])\n",
    "x = np.linalg.solve(A,s)\n",
    "s_0 = x[0]; v_0 = x[1]; a = x[2]\n",
    "'s_0=%.4f m  v_0=%.4f m/s  a=%.4f m/s**2' % (s_0, v_0, a)"
   ]
  },
  {
   "cell_type": "markdown",
   "metadata": {},
   "source": [
    "<b>b)</b> Estimate the error of the parameters for an error in s values of at most $\\pm 0.05$."
   ]
  },
  {
   "cell_type": "markdown",
   "metadata": {},
   "source": [
    "The condition number specifies the error propagation $$K=\\frac{R_{out}}{R_{in}}.$$"
   ]
  },
  {
   "cell_type": "code",
   "execution_count": 4,
   "metadata": {
    "collapsed": false
   },
   "outputs": [
    {
     "name": "stdout",
     "output_type": "stream",
     "text": [
      "R_out = 0.08\n"
     ]
    }
   ],
   "source": [
    "K = 202\n",
    "d_s = 0.5E-1\n",
    "R_in = d_s/np.linalg.norm(s)\n",
    "R_out = K*R_in\n",
    "print \"R_out = %.2f\" %R_out"
   ]
  },
  {
   "cell_type": "code",
   "execution_count": 5,
   "metadata": {
    "collapsed": false
   },
   "outputs": [
    {
     "data": {
      "text/plain": [
       "'E_out = 0.28'"
      ]
     },
     "execution_count": 5,
     "metadata": {},
     "output_type": "execute_result"
    }
   ],
   "source": [
    "E_out = np.linalg.norm(x)*R_out\n",
    "\"E_out = %.2f\"  % E_out"
   ]
  },
  {
   "cell_type": "markdown",
   "metadata": {},
   "source": [
    "The maximal error in the unknown parameter is $E_{\\mathrm{out}}=0.28$."
   ]
  },
  {
   "cell_type": "markdown",
   "metadata": {},
   "source": [
    "<b>c)</b> Estimation of the total error with addtional errors in t-values of at most $\\pm 0.01$. Use experimental error estimation."
   ]
  }
 ],
 "metadata": {
  "kernelspec": {
   "display_name": "Python 2",
   "language": "python",
   "name": "python2"
  },
  "language_info": {
   "codemirror_mode": {
    "name": "ipython",
    "version": 2
   },
   "file_extension": ".py",
   "mimetype": "text/x-python",
   "name": "python",
   "nbconvert_exporter": "python",
   "pygments_lexer": "ipython2",
   "version": "2.7.10"
  }
 },
 "nbformat": 4,
 "nbformat_minor": 0
}
