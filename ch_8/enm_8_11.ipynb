{
 "cells": [
  {
   "cell_type": "markdown",
   "metadata": {},
   "source": [
    "# Example 8.11\n",
    "A car is linear moving with constant acceleration $a\\,\\mathrm{m/s^2}$. Let $s_0$ denote the car's distance to a reference point 0 at the time $t=0$,and $v_0$ denotes its speed at this time. The function $s(t)$ gives the distance from reference point at time t. The function $s(t)$ can be given though $s(t) = s_0 + v_0 t + at^2/2$."
   ]
  },
  {
   "cell_type": "markdown",
   "metadata": {},
   "source": [
    "<b>a)</b> Calculate the unknown parameters for the following measurements."
   ]
  },
  {
   "cell_type": "code",
   "execution_count": 1,
   "metadata": {
    "collapsed": true
   },
   "outputs": [],
   "source": [
    "from math import *\n",
    "from numpy import *\n",
    "# import numpy as np"
   ]
  },
  {
   "cell_type": "code",
   "execution_count": 2,
   "metadata": {
    "collapsed": true
   },
   "outputs": [],
   "source": [
    "t = array((2.,5.,9.))\n",
    "s = array((8.7, 40.9, 125.7))"
   ]
  },
  {
   "cell_type": "markdown",
   "metadata": {},
   "source": [
    "The unknown $s_0, v_0, a$ can be calculated from a linear system using the three measurements. We setup a coefficient matrix and solve the linear system."
   ]
  },
  {
   "cell_type": "code",
   "execution_count": 3,
   "metadata": {
    "collapsed": false
   },
   "outputs": [
    {
     "data": {
      "text/plain": [
       "'s_0=2.1857 m  v_0=0.2667 m/s  a=2.9905 m/s**2'"
      ]
     },
     "execution_count": 3,
     "metadata": {},
     "output_type": "execute_result"
    }
   ],
   "source": [
    "A = column_stack((ones(3), t, 0.5*t**2))\n",
    "x = linalg.solve(A,s)\n",
    "s_0 = x[0]; v_0 = x[1]; a = x[2]\n",
    "'s_0=%.4f m  v_0=%.4f m/s  a=%.4f m/s**2' % (s_0, v_0, a)"
   ]
  },
  {
   "cell_type": "markdown",
   "metadata": {},
   "source": [
    "<b>b)</b> Estimate the error of the parameters for an error in s values of at most $\\pm 0.05$."
   ]
  },
  {
   "cell_type": "markdown",
   "metadata": {},
   "source": [
    "The condition number specifies the error propagation $$K=\\frac{R_{out}}{R_{in}}.$$"
   ]
  },
  {
   "cell_type": "code",
   "execution_count": 4,
   "metadata": {
    "collapsed": true
   },
   "outputs": [],
   "source": [
    "# Given quantities\n",
    "K = 202\n",
    "d_s = 0.5E-1"
   ]
  },
  {
   "cell_type": "code",
   "execution_count": 5,
   "metadata": {
    "collapsed": false
   },
   "outputs": [
    {
     "name": "stdout",
     "output_type": "stream",
     "text": [
      "R_out = 0.08\n"
     ]
    }
   ],
   "source": [
    "R_in = d_s/linalg.norm(s,inf)\n",
    "R_out = K*R_in\n",
    "print \"R_out = %.2f\" %R_out"
   ]
  },
  {
   "cell_type": "code",
   "execution_count": 6,
   "metadata": {
    "collapsed": false
   },
   "outputs": [
    {
     "data": {
      "text/plain": [
       "'E_out = 0.24'"
      ]
     },
     "execution_count": 6,
     "metadata": {},
     "output_type": "execute_result"
    }
   ],
   "source": [
    "E_out = linalg.norm(x,inf)*R_out\n",
    "\"E_out = %.2f\"  % E_out"
   ]
  },
  {
   "cell_type": "markdown",
   "metadata": {},
   "source": [
    "The maximal error in the unknown parameter is $E_{\\mathrm{out}}=0.28$."
   ]
  },
  {
   "cell_type": "markdown",
   "metadata": {},
   "source": [
    "<b>c)</b> Estimation of the total error with addtional errors in t-values of at most $\\pm 0.01$. Use experimental error estimation."
   ]
  },
  {
   "cell_type": "markdown",
   "metadata": {},
   "source": [
    "Experimental error analysis will be performed by perturbing elements of the s- resp. t-vector one by one and collecting the appearing errors."
   ]
  },
  {
   "cell_type": "code",
   "execution_count": 7,
   "metadata": {
    "collapsed": true
   },
   "outputs": [],
   "source": [
    "# Given quantities\n",
    "d_t = 0.01"
   ]
  },
  {
   "cell_type": "code",
   "execution_count": 8,
   "metadata": {
    "collapsed": false
   },
   "outputs": [
    {
     "name": "stdout",
     "output_type": "stream",
     "text": [
      "Error contribution from the s-vector (right hand side):\n",
      "[ 0.2         0.09166667  0.01666667]\n"
     ]
    }
   ],
   "source": [
    "# Pertubations of the right hand side\n",
    "x_err = zeros(3)\n",
    "for i in range(3):\n",
    "    s_pert = copy(s)\n",
    "    s_pert[i] += d_s\n",
    "    x_pert = linalg.solve(A,s_pert)\n",
    "    x_err += abs(x_pert-x)\n",
    "print \"Error contribution from the s-vector (right hand side):\"\n",
    "print x_err"
   ]
  },
  {
   "cell_type": "code",
   "execution_count": 9,
   "metadata": {
    "collapsed": false
   },
   "outputs": [
    {
     "name": "stdout",
     "output_type": "stream",
     "text": [
      "Total error from perturbations of s- and t-vectors:\n",
      "[ 0.65990885  0.34087006  0.06737816]\n"
     ]
    }
   ],
   "source": [
    "# Perturbation of t-values\n",
    "for i in range(3):\n",
    "    t_pert = copy(t)\n",
    "    t_pert[i] += d_t\n",
    "    A_pert = column_stack((ones(3), t_pert, 0.5*t_pert**2))\n",
    "    x_pert = linalg.solve(A_pert,s)\n",
    "    x_err += abs(x_pert-x)\n",
    "print \"Total error from perturbations of s- and t-vectors:\"\n",
    "print x_err"
   ]
  }
 ],
 "metadata": {
  "kernelspec": {
   "display_name": "Python 2",
   "language": "python",
   "name": "python2"
  },
  "language_info": {
   "codemirror_mode": {
    "name": "ipython",
    "version": 2
   },
   "file_extension": ".py",
   "mimetype": "text/x-python",
   "name": "python",
   "nbconvert_exporter": "python",
   "pygments_lexer": "ipython2",
   "version": "2.7.10"
  }
 },
 "nbformat": 4,
 "nbformat_minor": 0
}
