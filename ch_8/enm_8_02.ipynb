{
 "cells": [
  {
   "cell_type": "markdown",
   "metadata": {},
   "source": [
    "# Example 8.2\n",
    "The distance from origin to point $P(4.5, 5.5)$ is given by $a=\\sqrt{50.50}=7.1063$. Carry out an error analysis of this value if the coordinates of P have an error of $\\pm 0.2$. How precise can one calculate the distance if it is known that the point is located on the line $x+y=10$?"
   ]
  },
  {
   "cell_type": "code",
   "execution_count": 1,
   "metadata": {
    "collapsed": true
   },
   "outputs": [],
   "source": [
    "from math import *\n",
    "from numpy import *"
   ]
  },
  {
   "cell_type": "code",
   "execution_count": 2,
   "metadata": {
    "collapsed": true
   },
   "outputs": [],
   "source": [
    "# Given quantities\n",
    "x = 4.5; y = 5.5       # point coordinates\n",
    "a = sqrt(x**2 + y**2)  # distance origin->point\n",
    "E_c = 0.2              # error limits for coordinates"
   ]
  },
  {
   "cell_type": "markdown",
   "metadata": {},
   "source": [
    "We use the error propagation law for the error analysis.\n",
    "The distance of the point from the origin is given by $$a = \\sqrt{x^2+y^2}.$$"
   ]
  },
  {
   "cell_type": "code",
   "execution_count": 3,
   "metadata": {
    "collapsed": true
   },
   "outputs": [],
   "source": [
    "def dist(x,y):\n",
    "    return sqrt(x**2 + y**2)"
   ]
  },
  {
   "cell_type": "markdown",
   "metadata": {},
   "source": [
    "The error can be calculated as follows\n",
    "$$\\begin{align*}\n",
    "E_a & = E_c \\cdot \\left ( \\left | \\frac{\\partial a}{\\partial x} \\right | + \\left | \\frac{\\partial a}{\\partial y} \\right | \\right ) \\\\\n",
    " & = \\frac{E_c ( x + y )}{\\sqrt{x^2 + y^2}}.\n",
    "\\end{align*}$$"
   ]
  },
  {
   "cell_type": "code",
   "execution_count": 4,
   "metadata": {
    "collapsed": false
   },
   "outputs": [
    {
     "data": {
      "text/plain": [
       "'a = 7.1  E_a = 0.3'"
      ]
     },
     "execution_count": 4,
     "metadata": {},
     "output_type": "execute_result"
    }
   ],
   "source": [
    "E_a = E_c*abs((x+y)/a); \"a = %.1f  E_a = %.1f\" % (dist(x,y),E_a)"
   ]
  },
  {
   "cell_type": "markdown",
   "metadata": {},
   "source": [
    "The distance of the point P from origin can be specified therefor as $a=7.1 \\pm 0.3$."
   ]
  },
  {
   "cell_type": "markdown",
   "metadata": {},
   "source": [
    "With the assumption $x+y=10$, the calculation of the point's distance becomes $$a = \\sqrt{x^2+(10-x)^2}.$$\n"
   ]
  },
  {
   "cell_type": "code",
   "execution_count": 5,
   "metadata": {
    "collapsed": false
   },
   "outputs": [],
   "source": [
    "def dist(x):\n",
    "    return sqrt(x**2+(10-x)**2)"
   ]
  },
  {
   "cell_type": "markdown",
   "metadata": {},
   "source": [
    "The error can be calculated as follows by means of the error propagation law\n",
    "$$\\begin{align*}\n",
    "E_a & = E_c \\cdot \\frac{\\mathrm{d}a}{\\mathrm{d}x} \\\\\n",
    " & = \\frac{E_c(2x-10)}{\\sqrt{x^2+(10-x)^2}}.\n",
    "\\end{align*}$$"
   ]
  },
  {
   "cell_type": "code",
   "execution_count": 6,
   "metadata": {
    "collapsed": false
   },
   "outputs": [
    {
     "data": {
      "text/plain": [
       "'a = 7.11  E_a = 0.03'"
      ]
     },
     "execution_count": 6,
     "metadata": {},
     "output_type": "execute_result"
    }
   ],
   "source": [
    "E_a = E_c*abs((2*x-10)/dist(x)); \"a = %.2f  E_a = %.2f\" % (dist(x),E_a)"
   ]
  },
  {
   "cell_type": "markdown",
   "metadata": {},
   "source": [
    "The distance of the point P from origin can be specified therefor as $a=7.11 \\pm 0.03$."
   ]
  },
  {
   "cell_type": "markdown",
   "metadata": {},
   "source": [
    "We carry out an experimental error analysis for the assumption $x+y=10$ as a second solution variant."
   ]
  },
  {
   "cell_type": "code",
   "execution_count": 7,
   "metadata": {
    "collapsed": false
   },
   "outputs": [
    {
     "data": {
      "text/plain": [
       "'a = 7.11  E_a = 0.03'"
      ]
     },
     "execution_count": 7,
     "metadata": {},
     "output_type": "execute_result"
    }
   ],
   "source": [
    "# Range for x values\n",
    "E_a = max(abs(dist(x-0.2)-dist(x)),abs(dist(x+0.2)-dist(x)))\n",
    "\"a = %.2f  E_a = %.2f\" % (dist(x),E_a)"
   ]
  },
  {
   "cell_type": "markdown",
   "metadata": {},
   "source": [
    "Therefore, the distance of the point P from origin can be specified as $a=7.11 \\pm 0.03$."
   ]
  }
 ],
 "metadata": {
  "kernelspec": {
   "display_name": "Python 2",
   "language": "python",
   "name": "python2"
  },
  "language_info": {
   "codemirror_mode": {
    "name": "ipython",
    "version": 2
   },
   "file_extension": ".py",
   "mimetype": "text/x-python",
   "name": "python",
   "nbconvert_exporter": "python",
   "pygments_lexer": "ipython2",
   "version": "2.7.10"
  }
 },
 "nbformat": 4,
 "nbformat_minor": 0
}
