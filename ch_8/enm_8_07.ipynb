{
 "cells": [
  {
   "cell_type": "markdown",
   "metadata": {},
   "source": [
    "#Example 8.7\n",
    "Calculate the height of a tower having its top in point A. The length of a line segment from B to C has been measured. Its prolongation goes through point D that is the foot point of the tower. Furthermore, the angles ABCD = $\\alpha$ and ACD = $\\beta$ have been measured. Calculate the height of the tower and estimate the error in the calculation. Wich of the measurements contributes most to the error in the result? Measurements: BC = $50 \\pm 0.2$ m, $\\alpha = (32.6 \\pm 0.3)°$, $\\beta = (53.8 \\pm 0.3)°$."
   ]
  },
  {
   "cell_type": "markdown",
   "metadata": {},
   "source": [
    "The height of the tower can be calculated using the two angles $\\alpha$ and $\\beta$.\n",
    "$$\\begin{align*}\n",
    "\\tan \\alpha & = \\frac{|AD|}{|\\overline{BC}|+|\\overline{CD}|} \\\\\n",
    "\\tan \\beta & = \\frac{|\\overline{AD}|}{|\\overline{CD}|}\n",
    "\\end{align*}$$\n",
    "Removing the unknown line segment $\\overline{CD}$ we find\n",
    "\\begin{equation}\n",
    "  h = h(|\\overline{BC}|,\\alpha,\\beta) = |\\overline{AD}| = \\frac{\\tan \\alpha \\tan \\beta}{\\tan \\beta - \\tan \\alpha } |\\overline{BC}|.\n",
    "\\end{equation}"
   ]
  },
  {
   "cell_type": "code",
   "execution_count": 1,
   "metadata": {
    "collapsed": true
   },
   "outputs": [],
   "source": [
    "from math import *"
   ]
  },
  {
   "cell_type": "code",
   "execution_count": 2,
   "metadata": {
    "collapsed": false
   },
   "outputs": [],
   "source": [
    "# Given measurements\n",
    "BC=50.; E_bc=0.2;\n",
    "alpha=32.6*pi/180.; E_alpha=0.3*pi/180.;\n",
    "beta=53.8*pi/180.; E_beta=0.3*pi/180.;"
   ]
  },
  {
   "cell_type": "markdown",
   "metadata": {},
   "source": [
    "## Height of the tower"
   ]
  },
  {
   "cell_type": "code",
   "execution_count": 3,
   "metadata": {
    "collapsed": false
   },
   "outputs": [],
   "source": [
    "# Calculate the height of the tower\n",
    "def tower_height(BC, alpha, beta):\n",
    "    return tan(alpha)*tan(beta)/(tan(beta)-tan(alpha))*BC "
   ]
  },
  {
   "cell_type": "code",
   "execution_count": 4,
   "metadata": {
    "collapsed": false
   },
   "outputs": [
    {
     "data": {
      "text/plain": [
       "'h = |AD| = 60.11'"
      ]
     },
     "execution_count": 4,
     "metadata": {},
     "output_type": "execute_result"
    }
   ],
   "source": [
    "h = tower_height(BC, alpha, beta); \"h = |AD| = %.2f\" % h"
   ]
  },
  {
   "cell_type": "markdown",
   "metadata": {},
   "source": [
    "## Error estiatimation"
   ]
  },
  {
   "cell_type": "markdown",
   "metadata": {},
   "source": [
    "We use partial derivatives of the measurement variables in order to estimate their contributions to the error in the result as well as the overall error.\n",
    "$$\n",
    "E_{AD} \\approx \\left | \\frac{\\partial h}{\\partial |\\overline{BC}|} \\right | E_{BC} + \\left | \\frac{\\partial h}{\\partial \\alpha} \\right | E_\\alpha + \\left | \\frac{\\partial h}{\\partial \\beta} \\right | E_\\beta.\n",
    "$$"
   ]
  },
  {
   "cell_type": "markdown",
   "metadata": {},
   "source": [
    "$$\\begin{align*}\n",
    "  \\frac{\\partial h}{\\partial |\\overline{BC}|} & = \\frac{\\tan \\alpha \\tan \\beta}{\\tan \\beta - \\tan \\alpha}\n",
    "\\end{align*}$$"
   ]
  },
  {
   "cell_type": "markdown",
   "metadata": {},
   "source": [
    "$$\\begin{align*}\n",
    "\\frac{\\partial h}{\\partial \\alpha} & =\n",
    "  |\\overline{BC}| \\frac{\\frac{1}{\\cos^2 \\alpha}\n",
    "                  \\tan \\beta \\left (\\tan \\beta - \\tan \\alpha \\right )\n",
    "                        - \\left (-\\frac{1}{\\cos^2 \\alpha} \\right ) \\tan \\alpha \\tan \\beta\n",
    "                       }\n",
    "                       {(\\tan \\beta - \\tan \\alpha)^2} \\\\\n",
    "  & = |\\overline{BC}| \\frac{\\tan^2 \\beta}{\\cos^2 \\alpha (\\tan \\beta - \\tan \\alpha)^2}\n",
    "\\end{align*}$$"
   ]
  },
  {
   "cell_type": "markdown",
   "metadata": {},
   "source": [
    "$$\\begin{align*}\n",
    "\\frac{\\partial h}{\\partial \\beta} & =\n",
    "  |\\overline{BC}| \\frac{\\frac{1}{\\cos^2 \\beta} \\tan \\alpha (\\tan \\beta - \\tan \\alpha)\n",
    "                        - \\frac{1}{\\cos^2 \\beta}(\\tan \\alpha \\tan \\beta)}\n",
    "                       {(\\tan \\beta - \\tan \\alpha)^2} \\\\\n",
    "  & = |\\overline{BC}| \\frac{-\\tan^2 \\alpha}{\\cos^2 \\beta(\\tan \\beta - \\tan \\alpha)^2}\n",
    "\\end{align*}$$"
   ]
  },
  {
   "cell_type": "markdown",
   "metadata": {},
   "source": [
    "The contributions of the different measurement values to the error can be estimated as follows. From the measurement of the line segment between B and C we get\n",
    "$E_{h,|\\overline{BC}} \\approx \\left | \\frac{\\partial h}{\\partial |\\overline{BC}|} \\right | E_{BC}$.\n",
    "From the measurment of angle $\\alpha$ we get\n",
    "$E_{h,\\alpha} \\approx \\left | \\frac{\\partial h}{\\partial \\alpha} \\right | E_\\alpha$.\n",
    "From the measurement of angle $\\beta$ we get\n",
    "$E_{h,\\beta} \\approx \\left | \\frac{\\partial h}{\\partial \\beta} \\right | E_\\beta$."
   ]
  },
  {
   "cell_type": "code",
   "execution_count": 5,
   "metadata": {
    "collapsed": false
   },
   "outputs": [
    {
     "name": "stdout",
     "output_type": "stream",
     "text": [
      "E_h_bc    = 0.20 m\n",
      "E_h_alpha = 0.95 m\n",
      "E_h_beta  = 0.42 m\n"
     ]
    }
   ],
   "source": [
    "E_h_bc = abs(tan(alpha)*tan(beta)/(tan(beta)-tan(alpha)))*E_bc\n",
    "E_h_alpha = BC*abs(tan(beta)**2/(cos(alpha)**2*(tan(beta)-tan(alpha))))*E_alpha\n",
    "E_h_beta = BC*abs((-tan(alpha)**2)/(cos(beta)**2*(tan(beta)-tan(alpha))))*E_beta\n",
    "print \"E_h_bc    = %.2f m\" % E_bc\n",
    "print \"E_h_alpha = %.2f m\" % E_h_alpha\n",
    "print \"E_h_beta  = %.2f m\" % E_h_beta"
   ]
  },
  {
   "cell_type": "code",
   "execution_count": 6,
   "metadata": {
    "collapsed": false
   },
   "outputs": [
    {
     "data": {
      "text/plain": [
       "'E_h = 1.61 m'"
      ]
     },
     "execution_count": 6,
     "metadata": {},
     "output_type": "execute_result"
    }
   ],
   "source": [
    "E_h = E_h_bc + E_h_alpha + E_h_beta; \"E_h = %.2f m\" % E_h"
   ]
  },
  {
   "cell_type": "markdown",
   "metadata": {},
   "source": [
    "The limit of the absolute error in the height of the tower can be estimated as\n",
    "$$E_h \\approx E_{h,|\\overline{BC}|}+E_{h,\\alpha}+E_{h,\\beta} = 1.61 \\mathrm{m}.$$"
   ]
  },
  {
   "cell_type": "markdown",
   "metadata": {},
   "source": [
    "## Experimental error estimation"
   ]
  },
  {
   "cell_type": "code",
   "execution_count": 7,
   "metadata": {
    "collapsed": true
   },
   "outputs": [],
   "source": [
    "E_h_bc = max(abs(tower_height(BC+E_bc, alpha, beta)-h),\n",
    "             abs(tower_height(BC-E_bc, alpha, beta)-h))"
   ]
  },
  {
   "cell_type": "code",
   "execution_count": 8,
   "metadata": {
    "collapsed": true
   },
   "outputs": [],
   "source": [
    "E_h_alpha = max(abs(tower_height(BC, alpha+E_alpha, beta)-h),\n",
    "                abs(tower_height(BC, alpha-E_alpha, beta)-h))"
   ]
  },
  {
   "cell_type": "code",
   "execution_count": 9,
   "metadata": {
    "collapsed": true
   },
   "outputs": [],
   "source": [
    "E_h_beta = max(abs(tower_height(BC, alpha, beta+E_beta)-h),\n",
    "               abs(tower_height(BC, alpha, beta-E_beta)-h))"
   ]
  },
  {
   "cell_type": "code",
   "execution_count": 10,
   "metadata": {
    "collapsed": false
   },
   "outputs": [
    {
     "name": "stdout",
     "output_type": "stream",
     "text": [
      "E_h_bc    = 0.20 m\n",
      "E_h_alpha = 1.32 m\n",
      "E_h_beta  = 0.59 m\n"
     ]
    }
   ],
   "source": [
    "print \"E_h_bc    = %.2f m\" % E_bc\n",
    "print \"E_h_alpha = %.2f m\" % E_h_alpha\n",
    "print \"E_h_beta  = %.2f m\" % E_h_beta"
   ]
  },
  {
   "cell_type": "code",
   "execution_count": 11,
   "metadata": {
    "collapsed": false
   },
   "outputs": [
    {
     "data": {
      "text/plain": [
       "'E_h = 2.15 m'"
      ]
     },
     "execution_count": 11,
     "metadata": {},
     "output_type": "execute_result"
    }
   ],
   "source": [
    "E_h = E_h_bc + E_h_alpha + E_h_beta; \"E_h = %.2f m\" % E_h"
   ]
  },
  {
   "cell_type": "markdown",
   "metadata": {},
   "source": [
    "The limit of the absolute error in the height of the tower can be estimated as\n",
    "$$E_h \\approx E_{h,|\\overline{BC}|}+E_{h,\\alpha}+E_{h,\\beta} = 2.15 \\mathrm{m}.$$"
   ]
  }
 ],
 "metadata": {
  "kernelspec": {
   "display_name": "Python 2",
   "language": "python",
   "name": "python2"
  },
  "language_info": {
   "codemirror_mode": {
    "name": "ipython",
    "version": 2
   },
   "file_extension": ".py",
   "mimetype": "text/x-python",
   "name": "python",
   "nbconvert_exporter": "python",
   "pygments_lexer": "ipython2",
   "version": "2.7.10"
  }
 },
 "nbformat": 4,
 "nbformat_minor": 0
}
