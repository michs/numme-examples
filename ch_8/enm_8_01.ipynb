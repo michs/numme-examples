{
 "cells": [
  {
   "cell_type": "markdown",
   "metadata": {},
   "source": [
    "# Error analysis - example 8.1"
   ]
  },
  {
   "cell_type": "markdown",
   "metadata": {},
   "source": [
    "The values of $y=x^{1/3}$ and $z=x^{30}$ are calculated for $x=0.92$ which is correctly rounded. One gets $y=0.9726$ and $z=0.08197$. How many correct digits have the results? With how many correct digits should $x$ be given in order to get all digits in $z$ correctly."
   ]
  },
  {
   "cell_type": "code",
   "execution_count": 1,
   "metadata": {
    "collapsed": false
   },
   "outputs": [],
   "source": [
    "x=0.92\n",
    "y=0.9726\n",
    "z=0.08197"
   ]
  },
  {
   "cell_type": "markdown",
   "metadata": {},
   "source": [
    "## Number of correct digits in results"
   ]
  },
  {
   "cell_type": "markdown",
   "metadata": {},
   "source": [
    "The absolute and relative error limits for $x$ are given by"
   ]
  },
  {
   "cell_type": "code",
   "execution_count": 2,
   "metadata": {
    "collapsed": false
   },
   "outputs": [
    {
     "name": "stdout",
     "output_type": "stream",
     "text": [
      "E_x=0.0050, R_x=0.0054\n"
     ]
    }
   ],
   "source": [
    "E_x = 0.005\n",
    "R_x = abs(E_x/x,)\n",
    "print \"E_x=%.4f, R_x=%.4f\" % (E_x, R_x)"
   ]
  },
  {
   "cell_type": "markdown",
   "metadata": {},
   "source": [
    "The relative error's limit for an exponentiation $z=x^n$ is given by $R_z=|n|R_x$."
   ]
  },
  {
   "cell_type": "markdown",
   "metadata": {},
   "source": [
    "<hr>\n",
    "We get for $y=x^{1/3}$"
   ]
  },
  {
   "cell_type": "code",
   "execution_count": 3,
   "metadata": {
    "collapsed": false
   },
   "outputs": [
    {
     "name": "stdout",
     "output_type": "stream",
     "text": [
      "R_y=0.0018    E_y=0.0018\n"
     ]
    }
   ],
   "source": [
    "R_y=abs(1./3)*R_x; E_y=y*R_y;\n",
    "print 'R_y=%.4f    E_y=%.4f' % (R_y, E_y)"
   ]
  },
  {
   "cell_type": "markdown",
   "metadata": {},
   "source": [
    "The result becomes $y=0.92^{1/3}=0.9726 \\pm 0.0018$, i.e. only two digits of the result are guaranteed to be correct."
   ]
  },
  {
   "cell_type": "markdown",
   "metadata": {},
   "source": [
    "<hr>\n",
    "We get for $z=x^{30}$"
   ]
  },
  {
   "cell_type": "code",
   "execution_count": 4,
   "metadata": {
    "collapsed": false
   },
   "outputs": [
    {
     "name": "stdout",
     "output_type": "stream",
     "text": [
      "R_z=0.1630    E_z=0.01336\n"
     ]
    }
   ],
   "source": [
    "R_z=abs(30)*R_x; E_z=z*R_z;\n",
    "print 'R_z=%.4f    E_z=%.5f' % (R_z, E_z)"
   ]
  },
  {
   "cell_type": "markdown",
   "metadata": {},
   "source": [
    "The result becomes get $z=0.92^{30}=0.08197 \\pm 0.01336$, i.e. no digit of the result is guaranteed to be correct."
   ]
  },
  {
   "cell_type": "markdown",
   "metadata": {},
   "source": [
    "## Required precision of input"
   ]
  },
  {
   "cell_type": "markdown",
   "metadata": {},
   "source": [
    "We calculate now the required number of correct digits for x in order to get 6 correct digits in order to get 4 correct digits resp. 5 correct decimals in the result $z$."
   ]
  },
  {
   "cell_type": "markdown",
   "metadata": {},
   "source": [
    "The limit of the relative error for 4 signifikant digits in z is therefore"
   ]
  },
  {
   "cell_type": "code",
   "execution_count": 5,
   "metadata": {
    "collapsed": false
   },
   "outputs": [],
   "source": [
    "R_4 = 5E-4"
   ]
  },
  {
   "cell_type": "markdown",
   "metadata": {},
   "source": [
    "This leads to a maximum of the relativ error in the argument $x$"
   ]
  },
  {
   "cell_type": "code",
   "execution_count": 6,
   "metadata": {
    "collapsed": false
   },
   "outputs": [
    {
     "name": "stdout",
     "output_type": "stream",
     "text": [
      "R_x = 1.7e-05\n"
     ]
    }
   ],
   "source": [
    "R_x = R_4/30; print \"R_x = %.1e\" % R_x"
   ]
  },
  {
   "cell_type": "markdown",
   "metadata": {},
   "source": [
    "We find $R_x < 5 \\cdot 10^{-5}$, i.e. 5 correct digits of the argument x would lead to 4 correct digits in this calculation."
   ]
  },
  {
   "cell_type": "markdown",
   "metadata": {},
   "source": [
    "<hr>\n",
    "However, we know that in general $0.5 \\cdot 10^{-4} \\leq R_x \\leq 5 \\cdot 10^{-4}$. To be sure to get 4 correct digits in the result for any possible argument we need therefore to calculate the smallest required limit of the relative error."
   ]
  },
  {
   "cell_type": "code",
   "execution_count": 2,
   "metadata": {
    "collapsed": false
   },
   "outputs": [
    {
     "name": "stdout",
     "output_type": "stream",
     "text": [
      "R_x = 1.7e-06\n"
     ]
    }
   ],
   "source": [
    "R_4 = 0.5E-4\n",
    "R_x = R_4/30; print \"R_x = %.1e\" % R_x"
   ]
  },
  {
   "cell_type": "markdown",
   "metadata": {},
   "source": [
    "We find $R_x < 5 \\cdot 10^{-6}$, i.e. 6 correct digits of the argument x would\n",
    "lead to 4 correct digits in the result for any argument $x$."
   ]
  }
 ],
 "metadata": {
  "kernelspec": {
   "display_name": "Python 2",
   "language": "python",
   "name": "python2"
  },
  "language_info": {
   "codemirror_mode": {
    "name": "ipython",
    "version": 2
   },
   "file_extension": ".py",
   "mimetype": "text/x-python",
   "name": "python",
   "nbconvert_exporter": "python",
   "pygments_lexer": "ipython2",
   "version": "2.7.10"
  }
 },
 "nbformat": 4,
 "nbformat_minor": 0
}
