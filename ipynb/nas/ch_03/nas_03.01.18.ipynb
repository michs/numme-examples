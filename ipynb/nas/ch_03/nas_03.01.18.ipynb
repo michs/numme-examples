{
 "cells": [
  {
   "cell_type": "markdown",
   "metadata": {},
   "source": [
    "# Exercise 3.1.18 Interpolation polynom with Newton's divided differences\n",
    "The data specify the lifetime of a machine part when it is used at a certain temperature. Calculate the expected lifetime for operation at 70°C from an interpolation with a quadratic function using the last three data points as well as from a cubic polynom."
   ]
  },
  {
   "cell_type": "code",
   "execution_count": 1,
   "metadata": {
    "collapsed": true
   },
   "outputs": [],
   "source": [
    "%run ../../tools/projini.py\n",
    "\n",
    "from math import *\n",
    "%matplotlib inline\n",
    "from numpy import *\n",
    "import matplotlib.pylab as pyl"
   ]
  },
  {
   "cell_type": "code",
   "execution_count": 2,
   "metadata": {
    "collapsed": false
   },
   "outputs": [],
   "source": [
    "# Given quantities\n",
    "temp = array([25.,40.,50.,60.]) # temperature [°C]\n",
    "life = array([95.,75.,63.,54.]) # lifetime    [1000 hours]\n",
    "\n",
    "x = temp  # convenience\n",
    "# temperature range for plotting\n",
    "x_pl = linspace(20,80,101)"
   ]
  },
  {
   "cell_type": "markdown",
   "metadata": {},
   "source": [
    "## a) Interpolation with quadratic polynom"
   ]
  },
  {
   "cell_type": "code",
   "execution_count": 3,
   "metadata": {
    "collapsed": false
   },
   "outputs": [],
   "source": [
    "f_1 = life[1]; f_2 = life[2]; f_3 = life[3]\n",
    "\n",
    "f_1_2 = (f_2 - f_1)/(x[2] - x[1])\n",
    "f_2_3 = (f_3 - f_2)/(x[3] - x[2])\n",
    "\n",
    "f_1_2_3 = (f_2_3 - f_1_2)/(x[3] - x[1])"
   ]
  },
  {
   "cell_type": "code",
   "execution_count": 4,
   "metadata": {
    "collapsed": false
   },
   "outputs": [
    {
     "name": "stdout",
     "output_type": "stream",
     "text": [
      "Coefficients:  75.0 -1.2 0.015\n"
     ]
    }
   ],
   "source": [
    "print \"Coefficients: \", f_1, f_1_2, f_1_2_3"
   ]
  },
  {
   "cell_type": "code",
   "execution_count": 5,
   "metadata": {
    "collapsed": true
   },
   "outputs": [],
   "source": [
    "L_2 = lambda xi: f_1 + f_1_2*(xi - x[1]) + f_1_2_3*(xi - x[1])*(xi - x[2])"
   ]
  },
  {
   "cell_type": "code",
   "execution_count": 6,
   "metadata": {
    "collapsed": false
   },
   "outputs": [
    {
     "name": "stdout",
     "output_type": "stream",
     "text": [
      "L_2(x)=\t75.0000\n",
      "\t-1.2000*(x-40.00)\n",
      "\t+0.0150*(x-40.00)(x-50.00)\n"
     ]
    }
   ],
   "source": [
    "print \"L_2(x)=\\t%.4f\" \\\n",
    "               \"\\n\\t%+.4f*(x%+.2f)\" \\\n",
    "               \"\\n\\t%+.4f*(x%+.2f)(x%+.2f)\" \\\n",
    "      % (f_1, f_1_2, -x[1], f_1_2_3, -x[1], -x[2])"
   ]
  },
  {
   "cell_type": "code",
   "execution_count": 7,
   "metadata": {
    "collapsed": false
   },
   "outputs": [
    {
     "name": "stdout",
     "output_type": "stream",
     "text": [
      "Expected lifetime at 70°C: 48.00 x1000 hours.\n"
     ]
    }
   ],
   "source": [
    "l2_70 = L_2(70)\n",
    "print \"Expected lifetime at 70°C: %.2f x1000 hours.\" % (l2_70,)"
   ]
  },
  {
   "cell_type": "code",
   "execution_count": 8,
   "metadata": {
    "collapsed": true
   },
   "outputs": [],
   "source": [
    "# Lifetimes for plotting\n",
    "l2_pl = L_2(x_pl)"
   ]
  },
  {
   "cell_type": "markdown",
   "metadata": {},
   "source": [
    "## b) Interpolation with cubic polynom"
   ]
  },
  {
   "cell_type": "code",
   "execution_count": 9,
   "metadata": {
    "collapsed": false
   },
   "outputs": [],
   "source": [
    "f_0 = life[0]\n",
    "\n",
    "f_0_1 = (f_1 - f_0)/(x[1] - x[0])\n",
    "\n",
    "f_0_1_2 = (f_1_2 - f_0_1)/(x[2] - x[0])\n",
    "\n",
    "f_0_1_2_3 = (f_1_2_3 - f_0_1_2)/(x[3] - x[0])"
   ]
  },
  {
   "cell_type": "code",
   "execution_count": 10,
   "metadata": {
    "collapsed": false
   },
   "outputs": [
    {
     "name": "stdout",
     "output_type": "stream",
     "text": [
      "Coefficients:  95.0 -1.33333333333 0.00533333333333 0.00027619047619\n"
     ]
    }
   ],
   "source": [
    "print \"Coefficients: \", f_0, f_0_1, f_0_1_2, f_0_1_2_3"
   ]
  },
  {
   "cell_type": "code",
   "execution_count": 11,
   "metadata": {
    "collapsed": true
   },
   "outputs": [],
   "source": [
    "L_3 = lambda xi: f_0 \\\n",
    "                 + f_0_1*(xi - x[0]) \\\n",
    "                 + f_0_1_2  *(xi - x[0])*(xi - x[1]) \\\n",
    "                 + f_0_1_2_3*(xi - x[0])*(xi - x[1])*(xi - x[2])"
   ]
  },
  {
   "cell_type": "code",
   "execution_count": 12,
   "metadata": {
    "collapsed": false
   },
   "outputs": [
    {
     "name": "stdout",
     "output_type": "stream",
     "text": [
      "L_3(x)=\t95.0000\n",
      "\t-1.3333*(x-25.00)\n",
      "\t+0.0053*(x-25.00)(x-40.00)\n",
      "\t+0.0003*(x-25.00)(x-40.00)(x-50.00)\n"
     ]
    }
   ],
   "source": [
    "print \"L_3(x)=\\t%.4f\" \\\n",
    "             \"\\n\\t%+.4f*(x%+.2f)\" \\\n",
    "             \"\\n\\t%+.4f*(x%+.2f)(x%+.2f)\" \\\n",
    "             \"\\n\\t%+.4f*(x%+.2f)(x%+.2f)(x%+.2f)\" \\\n",
    "        % (f_0, f_0_1, -x[0], f_0_1_2, -x[0], -x[1], f_0_1_2_3, -x[0], -x[1], -x[2])"
   ]
  },
  {
   "cell_type": "code",
   "execution_count": 13,
   "metadata": {
    "collapsed": false
   },
   "outputs": [
    {
     "name": "stdout",
     "output_type": "stream",
     "text": [
      "Expected lifetime at 70°C: 49.66 x1000 hours.\n"
     ]
    }
   ],
   "source": [
    "l3_70 = L_3(70)\n",
    "print \"Expected lifetime at 70°C: %.2f x1000 hours.\" % (l3_70,)"
   ]
  },
  {
   "cell_type": "code",
   "execution_count": 14,
   "metadata": {
    "collapsed": true
   },
   "outputs": [],
   "source": [
    "# Lifetimes for plotting\n",
    "l3_pl = L_3(x_pl)"
   ]
  },
  {
   "cell_type": "markdown",
   "metadata": {},
   "source": [
    "## Data plots"
   ]
  },
  {
   "cell_type": "code",
   "execution_count": 15,
   "metadata": {
    "collapsed": false
   },
   "outputs": [
    {
     "data": {
      "image/png": "[encoded data removed]",
      "text/plain": [
       "<matplotlib.figure.Figure at 0x2b6e56296c90>"
      ]
     },
     "metadata": {},
     "output_type": "display_data"
    }
   ],
   "source": [
    "pyl.figure()\n",
    "pyl.plot(x_pl,l2_pl,x_pl,l3_pl,temp,life,'ro', [70.,70.], [l2_70, l3_70],'*')\n",
    "pyl.xlabel(u\"Temperature [°C]\")\n",
    "pyl.ylabel(u\"Lifetime [1000 h]\")\n",
    "pyl.legend([\"L_2\", \"L_3\"])\n",
    "pyl.grid()"
   ]
  }
 ],
 "metadata": {
  "kernelspec": {
   "display_name": "Python 2",
   "language": "python",
   "name": "python2"
  },
  "language_info": {
   "codemirror_mode": {
    "name": "ipython",
    "version": 2
   },
   "file_extension": ".py",
   "mimetype": "text/x-python",
   "name": "python",
   "nbconvert_exporter": "python",
   "pygments_lexer": "ipython2",
   "version": "2.7.10"
  }
 },
 "nbformat": 4,
 "nbformat_minor": 0
}
