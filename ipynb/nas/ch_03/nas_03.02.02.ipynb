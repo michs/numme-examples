{
 "cells": [
  {
   "cell_type": "markdown",
   "metadata": {},
   "source": [
    "# 3.2.2 Error estimation for interpolation polynomial\n",
    "Approximate the logarithm function with a parabel at the points $x_1=1,x_2=2,x_3=4$ and caclulate the interpolated value of $\\ln 3$. What is the error bound of the interpolation and how does it compare to the real error?"
   ]
  },
  {
   "cell_type": "code",
   "execution_count": 1,
   "metadata": {
    "collapsed": true
   },
   "outputs": [],
   "source": [
    "%run ../../tools/projini.py\n",
    "\n",
    "from math import *\n",
    "%matplotlib inline\n",
    "from numpy import *\n",
    "import matplotlib.pylab as pyl"
   ]
  },
  {
   "cell_type": "code",
   "execution_count": 2,
   "metadata": {
    "collapsed": true
   },
   "outputs": [],
   "source": [
    "# Given quantities\n",
    "x = array([1.,2.,4.])\n",
    "y = array([0., log(x[1]), log(x[2])])"
   ]
  },
  {
   "cell_type": "markdown",
   "metadata": {},
   "source": [
    "## a) Interpolation polynomial"
   ]
  },
  {
   "cell_type": "code",
   "execution_count": 3,
   "metadata": {
    "collapsed": true
   },
   "outputs": [],
   "source": [
    "f_0 = y[0]; f_1 = y[1]; f_2 = y[2]\n",
    "\n",
    "f_0_1 = (f_1 - f_0)/(x[1] - x[0])\n",
    "f_1_2 = (f_2 - f_1)/(x[2] - x[1])\n",
    "\n",
    "f_0_1_2 = (f_1_2 - f_0_1)/(x[2] - x[0])"
   ]
  },
  {
   "cell_type": "code",
   "execution_count": 4,
   "metadata": {
    "collapsed": false
   },
   "outputs": [
    {
     "name": "stdout",
     "output_type": "stream",
     "text": [
      "Coefficients:  0.0 0.69314718056 -0.115524530093\n"
     ]
    }
   ],
   "source": [
    "print \"Coefficients: \", f_0, f_0_1, f_0_1_2"
   ]
  },
  {
   "cell_type": "markdown",
   "metadata": {},
   "source": [
    "The interpolation polynomial becomes therefore\n",
    "$$LN(x) = 0.6931(x-1) - 0.1155(x-1)(x-2)$$"
   ]
  },
  {
   "cell_type": "code",
   "execution_count": 5,
   "metadata": {
    "collapsed": true
   },
   "outputs": [],
   "source": [
    "LN = lambda xi: f_0 + f_0_1*(xi-x[0]) + f_0_1_2*(xi-x[0])*(xi-x[1])"
   ]
  },
  {
   "cell_type": "code",
   "execution_count": 6,
   "metadata": {
    "collapsed": false
   },
   "outputs": [
    {
     "name": "stdout",
     "output_type": "stream",
     "text": [
      "The interpolated value of x = 3 is LN(3) = 1.155245\n",
      "The real         value of x = 3 is ln(3) = 1.098612\n"
     ]
    }
   ],
   "source": [
    "LN_3 = LN(3.)    # interpolated value\n",
    "ln_3 = log(3.)   # real value\n",
    "print \"The interpolated value of x = 3 is LN(3) = %f\" % (LN_3,)\n",
    "print \"The real         value of x = 3 is ln(3) = %f\" % (ln_3,)"
   ]
  },
  {
   "cell_type": "markdown",
   "metadata": {},
   "source": [
    "## Error analysis"
   ]
  },
  {
   "cell_type": "markdown",
   "metadata": {},
   "source": [
    "### Actual error"
   ]
  },
  {
   "cell_type": "code",
   "execution_count": 7,
   "metadata": {
    "collapsed": false
   },
   "outputs": [
    {
     "name": "stdout",
     "output_type": "stream",
     "text": [
      "Absolute error due to interpolation: 0.056633\n",
      "Relative error due to interpolation: 0.051550\n"
     ]
    }
   ],
   "source": [
    "print \"Absolute error due to interpolation: %f\" % (LN_3-ln_3,)\n",
    "print \"Relative error due to interpolation: %f\" % ((LN_3-ln_3)/ln_3,)"
   ]
  },
  {
   "cell_type": "markdown",
   "metadata": {},
   "source": [
    "### Error limit"
   ]
  },
  {
   "cell_type": "markdown",
   "metadata": {},
   "source": [
    "We use theorem 3.4 from <em>Numerical Analysis</em> by Sauer that specifies the error of the interpolation polynomial.\n",
    "$$\n",
    "f(x)-P(x)=\\frac{(x-x_1)(x-x_2) \\cdots (x-x_n)}{n!}f^{(n)}(c)\n",
    "$$\n",
    "where c is some number within the intervall given by the x-values of the interpolation points.\n",
    "\n",
    "We get for $f(x) = \\ln x$ with $(\\ln x)'''=2x^{-3}$ the estimate\n",
    "$$\n",
    "\\ln x - \\mathrm{LN}(x) = \\frac{(x-1)(x-2)(x-4)}{3!}\\left [ 2x^{-3}\\right ]\n",
    "$$\n",
    "\n",
    "The derivative has its maximum at $c=1$, and we get for the worst-case error\n",
    "$$\n",
    "\\left | \\ln x - \\mathrm{LN}(x) \\right | \\le\n",
    "  \\frac{\\left | (x-1)(x-2)(x-4) \\right |}{3!} 2\n",
    "$$\n"
   ]
  },
  {
   "cell_type": "code",
   "execution_count": 8,
   "metadata": {
    "collapsed": true
   },
   "outputs": [],
   "source": [
    "# Worst case error for x = 3\n",
    "xi = 3.\n",
    "Err_ln = 2.*abs((xi-x[0])*(xi-x[1])*(xi-x[2]))/(1.*2.*3.)"
   ]
  },
  {
   "cell_type": "code",
   "execution_count": 9,
   "metadata": {
    "collapsed": false
   },
   "outputs": [
    {
     "name": "stdout",
     "output_type": "stream",
     "text": [
      "Limit of the absolute error E_a = 0.666667\n"
     ]
    }
   ],
   "source": [
    "print \"Limit of the absolute error E_a = %f\" % (Err_ln,)"
   ]
  },
  {
   "cell_type": "markdown",
   "metadata": {},
   "source": [
    "The limit of the absolute error $E_a = 0.667$ is larger than the actual error $e_a = 0.057$ as expected."
   ]
  },
  {
   "cell_type": "markdown",
   "metadata": {},
   "source": [
    "## Data plots"
   ]
  },
  {
   "cell_type": "code",
   "execution_count": 10,
   "metadata": {
    "collapsed": true
   },
   "outputs": [],
   "source": [
    "x_pl = linspace(0.9,4.1,101)\n",
    "ln_pl = log(x_pl)\n",
    "LN_pl = LN(x_pl)"
   ]
  },
  {
   "cell_type": "code",
   "execution_count": 11,
   "metadata": {
    "collapsed": false
   },
   "outputs": [
    {
     "data": {
      "image/png": "[encoded data removed]",
      "text/plain": [
       "<matplotlib.figure.Figure at 0x2b9868980b10>"
      ]
     },
     "metadata": {},
     "output_type": "display_data"
    }
   ],
   "source": [
    "pyl.figure()\n",
    "pyl.plot(x_pl,ln_pl,x_pl,LN_pl,x,y,'ro', [3.,3.], [ln_3, LN_3],'*')\n",
    "pyl.xlabel(u\"x\")\n",
    "pyl.ylabel(u\"y\")\n",
    "pyl.legend([\"ln(x)\", \"LN(x)\"], loc=4)\n",
    "pyl.grid()"
   ]
  }
 ],
 "metadata": {
  "kernelspec": {
   "display_name": "Python 2",
   "language": "python",
   "name": "python2"
  },
  "language_info": {
   "codemirror_mode": {
    "name": "ipython",
    "version": 2
   },
   "file_extension": ".py",
   "mimetype": "text/x-python",
   "name": "python",
   "nbconvert_exporter": "python",
   "pygments_lexer": "ipython2",
   "version": "2.7.10"
  }
 },
 "nbformat": 4,
 "nbformat_minor": 0
}
