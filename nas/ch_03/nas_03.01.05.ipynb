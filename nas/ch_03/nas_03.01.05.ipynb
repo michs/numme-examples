{
 "cells": [
  {
   "cell_type": "markdown",
   "metadata": {},
   "source": [
    "# Exercise 3.1.5 Polynomial interpolation\n",
    "a) Find a polynomial that interpolates the points $P_0 = (-2,8), P_1 = (0,4), P_2 = ( 1,2), P_3 = (3,-2)$.\n",
    "\n",
    "b) Specify all polynomials of degree 4 or less that interpolates the points given in a)."
   ]
  },
  {
   "cell_type": "code",
   "execution_count": 1,
   "metadata": {
    "collapsed": true
   },
   "outputs": [],
   "source": [
    "%run ../../tools/projini.py\n",
    "\n",
    "from math import *\n",
    "%matplotlib inline\n",
    "from numpy import *\n",
    "import matplotlib.pylab as pyl"
   ]
  },
  {
   "cell_type": "code",
   "execution_count": 2,
   "metadata": {
    "collapsed": true
   },
   "outputs": [],
   "source": [
    "# Given quantities\n",
    "x = array([-2., 0., 1., 3.])\n",
    "y = array([8., 4., 2., -2.])"
   ]
  },
  {
   "cell_type": "markdown",
   "metadata": {},
   "source": [
    "## a) Interpolation polynom\n",
    "We use Newton's divided differences for the calculation of polynom coefficients."
   ]
  },
  {
   "cell_type": "code",
   "execution_count": 3,
   "metadata": {
    "collapsed": false
   },
   "outputs": [],
   "source": [
    "f_0 = y[0]; f_1 = y[1]; f_2 = y[2]; f_3 = y[3]\n",
    "\n",
    "f_0_1 = (f_1 - f_0)/(x[1] - x[0])\n",
    "f_1_2 = (f_2 - f_1)/(x[2] - x[1])\n",
    "f_2_3 = (f_3 - f_2)/(x[3] - x[2])\n",
    "\n",
    "f_0_1_2 = (f_1_2 - f_0_1)/(x[2] - x[0])\n",
    "f_1_2_3 = (f_2_3 - f_1_2)/(x[3] - x[1])\n",
    "\n",
    "f_0_1_2_3 = (f_1_2_3 - f_0_1_2)/(x[3] - x[0])"
   ]
  },
  {
   "cell_type": "code",
   "execution_count": 4,
   "metadata": {
    "collapsed": false
   },
   "outputs": [
    {
     "name": "stdout",
     "output_type": "stream",
     "text": [
      "Coefficients:  8.0 -2.0 0.0 0.0\n"
     ]
    }
   ],
   "source": [
    "print \"Coefficients: \", f_0, f_0_1, f_0_1_2, f_0_1_2_3"
   ]
  },
  {
   "cell_type": "code",
   "execution_count": 5,
   "metadata": {
    "collapsed": true
   },
   "outputs": [],
   "source": [
    "P = lambda xi: f_0 + f_0_1*(xi - x[0])"
   ]
  },
  {
   "cell_type": "code",
   "execution_count": 6,
   "metadata": {
    "collapsed": false
   },
   "outputs": [
    {
     "name": "stdout",
     "output_type": "stream",
     "text": [
      "P(x) = 8 + (-2)*(x - (-2))\n"
     ]
    }
   ],
   "source": [
    "print \"P(x) = %.0f + (%.0f)*(x - (%.0f))\" % (f_0, f_0_1, x[0])"
   ]
  },
  {
   "cell_type": "code",
   "execution_count": 9,
   "metadata": {
    "collapsed": false
   },
   "outputs": [
    {
     "data": {
      "image/png": "[encoded data removed]",
      "text/plain": [
       "<matplotlib.figure.Figure at 0x2aaad3159610>"
      ]
     },
     "metadata": {},
     "output_type": "display_data"
    }
   ],
   "source": [
    "x_pl = linspace(-3,4,101)\n",
    "y_pl = P(x_pl)\n",
    "pyl.figure()\n",
    "pyl.plot(x_pl,y_pl,x,y,'ro')\n",
    "# pyl.ylim(-50,150)\n",
    "pyl.grid()"
   ]
  },
  {
   "cell_type": "markdown",
   "metadata": {},
   "source": [
    "## b) Interpolation polynoms of 4th degree\n",
    "Infinite many polynoms of degree 4 interpolate the four points.\n",
    "$$P_4(x) = 8-2(x+2) + c(x+2)x(x-1)(x-3) \\hspace{0.7cm}c \\ne 0$$"
   ]
  },
  {
   "cell_type": "code",
   "execution_count": 16,
   "metadata": {
    "collapsed": true
   },
   "outputs": [],
   "source": [
    "P_4 = lambda xi: f_0 + f_0_1*(xi - x[0]) + (xi - x[0])*(xi - x[1])*(xi - x[2])*(xi - x[3])"
   ]
  },
  {
   "cell_type": "code",
   "execution_count": 17,
   "metadata": {
    "collapsed": false
   },
   "outputs": [
    {
     "data": {
      "image/png": "[encoded data removed]",
      "text/plain": [
       "<matplotlib.figure.Figure at 0x2aaad34bdb50>"
      ]
     },
     "metadata": {},
     "output_type": "display_data"
    }
   ],
   "source": [
    "x_pl = linspace(-3,4,101)\n",
    "y_pl = P_4(x_pl)\n",
    "pyl.figure()\n",
    "pyl.plot(x_pl,y_pl,x,y,'ro')\n",
    "# pyl.ylim(-50,150)\n",
    "pyl.grid()"
   ]
  }
 ],
 "metadata": {
  "kernelspec": {
   "display_name": "Python 2",
   "language": "python",
   "name": "python2"
  },
  "language_info": {
   "codemirror_mode": {
    "name": "ipython",
    "version": 2
   },
   "file_extension": ".py",
   "mimetype": "text/x-python",
   "name": "python",
   "nbconvert_exporter": "python",
   "pygments_lexer": "ipython2",
   "version": "2.7.10"
  }
 },
 "nbformat": 4,
 "nbformat_minor": 0
}
